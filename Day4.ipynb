{
 "cells": [
  {
   "cell_type": "code",
   "execution_count": 1,
   "metadata": {},
   "outputs": [],
   "source": [
    "a=10"
   ]
  },
  {
   "cell_type": "code",
   "execution_count": 6,
   "metadata": {},
   "outputs": [
    {
     "name": "stdout",
     "output_type": "stream",
     "text": [
      "My name is Namrata\n"
     ]
    }
   ],
   "source": [
    "if a < 15:\n",
    "    print(\"My name is Namrata\")"
   ]
  },
  {
   "cell_type": "code",
   "execution_count": 3,
   "metadata": {},
   "outputs": [
    {
     "data": {
      "text/plain": [
       "True"
      ]
     },
     "execution_count": 3,
     "metadata": {},
     "output_type": "execute_result"
    }
   ],
   "source": [
    "a<15"
   ]
  },
  {
   "cell_type": "code",
   "execution_count": 7,
   "metadata": {},
   "outputs": [],
   "source": [
    "if a < 15:\n",
    "    pass"
   ]
  },
  {
   "cell_type": "code",
   "execution_count": 8,
   "metadata": {},
   "outputs": [],
   "source": [
    "if 24 < 15:\n",
    "    print(\"My name is Namrata\")"
   ]
  },
  {
   "cell_type": "code",
   "execution_count": 9,
   "metadata": {},
   "outputs": [
    {
     "data": {
      "text/plain": [
       "False"
      ]
     },
     "execution_count": 9,
     "metadata": {},
     "output_type": "execute_result"
    }
   ],
   "source": [
    "24<15"
   ]
  },
  {
   "cell_type": "code",
   "execution_count": 10,
   "metadata": {},
   "outputs": [
    {
     "name": "stdout",
     "output_type": "stream",
     "text": [
      "No\n"
     ]
    }
   ],
   "source": [
    "if 10<3:\n",
    "    print(\"Yes\")\n",
    "else:\n",
    "    print(\"No\")"
   ]
  },
  {
   "cell_type": "code",
   "execution_count": 11,
   "metadata": {},
   "outputs": [
    {
     "name": "stdout",
     "output_type": "stream",
     "text": [
      "Q\n"
     ]
    }
   ],
   "source": [
    "income=100\n",
    "if income<50:\n",
    "    print(\"k\")\n",
    "elif income<70:\n",
    "    print(\"l\")\n",
    "elif income<90:\n",
    "    print(\"u\")\n",
    "else:\n",
    "    print(\"Q\")"
   ]
  },
  {
   "cell_type": "code",
   "execution_count": 12,
   "metadata": {},
   "outputs": [
    {
     "name": "stdout",
     "output_type": "stream",
     "text": [
      "10\n",
      "k\n"
     ]
    }
   ],
   "source": [
    "income=int(input())\n",
    "if income<50:\n",
    "    print(\"k\")\n",
    "elif income<70:\n",
    "    print(\"l\")\n",
    "elif income<90:\n",
    "    print(\"u\")\n",
    "else:\n",
    "    print(\"Q\")"
   ]
  },
  {
   "cell_type": "code",
   "execution_count": 13,
   "metadata": {},
   "outputs": [
    {
     "name": "stdout",
     "output_type": "stream",
     "text": [
      "4565\n",
      "discount will be 228.25\n"
     ]
    }
   ],
   "source": [
    "t_p=int(input())\n",
    "if t_p > 20000:\n",
    "    d=t_p * .20\n",
    "    print(\"Discount will be \",d)\n",
    "elif t_p <= 7000:\n",
    "    d=t_p * .05\n",
    "    print(\"discount will be\",d)\n",
    "else:\n",
    "    print(\"no discount\")"
   ]
  },
  {
   "cell_type": "code",
   "execution_count": 14,
   "metadata": {},
   "outputs": [
    {
     "name": "stdout",
     "output_type": "stream",
     "text": [
      "8000\n",
      "no discount\n"
     ]
    }
   ],
   "source": [
    "t_p=int(input())\n",
    "if t_p > 20000:\n",
    "    d=t_p * .20\n",
    "    print(\"Discount will be \",d)\n",
    "elif t_p <= 7000:\n",
    "    d=t_p * .05\n",
    "    print(\"discount will be\",d)\n",
    "else:\n",
    "    print(\"no discount\")"
   ]
  },
  {
   "cell_type": "code",
   "execution_count": 15,
   "metadata": {},
   "outputs": [
    {
     "name": "stdout",
     "output_type": "stream",
     "text": [
      "yes\n",
      "Paid -53100.0\n"
     ]
    }
   ],
   "source": [
    "coup =\"NAMRATA\"\n",
    "if coup == \"NAMRATA\":\n",
    "    print(\"yes\")\n",
    "    p=7080-7080*8.50\n",
    "    print(\"Paid\",p)\n",
    "else:\n",
    "    print(\"wrong coupan\")\n",
    "    "
   ]
  },
  {
   "cell_type": "code",
   "execution_count": 17,
   "metadata": {},
   "outputs": [
    {
     "name": "stdout",
     "output_type": "stream",
     "text": [
      "NAMRATA\n",
      "yes\n",
      "Paid 6726.0\n"
     ]
    }
   ],
   "source": [
    "coup =input()\n",
    "if coup == \"NAMRATA\":\n",
    "    print(\"yes\")\n",
    "    p=7080-7080*.05\n",
    "    print(\"Paid\",p)\n",
    "else:\n",
    "    print(\"wrong coupan\")\n",
    "    "
   ]
  },
  {
   "cell_type": "code",
   "execution_count": 19,
   "metadata": {},
   "outputs": [
    {
     "data": {
      "text/plain": [
       "True"
      ]
     },
     "execution_count": 19,
     "metadata": {},
     "output_type": "execute_result"
    }
   ],
   "source": [
    "\"nam\"==\"nam\""
   ]
  },
  {
   "cell_type": "code",
   "execution_count": 23,
   "metadata": {},
   "outputs": [
    {
     "name": "stdout",
     "output_type": "stream",
     "text": [
      "2\n",
      "6\n"
     ]
    }
   ],
   "source": [
    "study_hr=int(input())\n",
    "if study_hr<1:\n",
    "    print(\"8-9\")\n",
    "elif study_hr <4 and study_hr>1:\n",
    "    print(\"6\")\n",
    "elif study_hr>10:\n",
    "    print(\"3\")\n",
    "else:\n",
    "    print(\"difficult\")"
   ]
  },
  {
   "cell_type": "code",
   "execution_count": null,
   "metadata": {},
   "outputs": [],
   "source": [
    "study_hr=int(input())\n",
    "if study_hr<1:\n",
    "    print(\"8-9\")\n",
    "elif study_hr <4 and study_hr>1:\n",
    "    print(\"6\")\n",
    "elif study_hr>10:\n",
    "    print(\"3\")\n",
    "else:\n",
    "    print(\"difficult\")"
   ]
  },
  {
   "cell_type": "code",
   "execution_count": 30,
   "metadata": {},
   "outputs": [
    {
     "name": "stdout",
     "output_type": "stream",
     "text": [
      "valid\n"
     ]
    }
   ],
   "source": [
    "a = 9\n",
    "if a == 9:\n",
    "    print(\"valid\")"
   ]
  },
  {
   "cell_type": "code",
   "execution_count": 35,
   "metadata": {},
   "outputs": [
    {
     "name": "stdout",
     "output_type": "stream",
     "text": [
      "string two\n",
      "course jhd\n",
      "service work\n",
      "yes6\n"
     ]
    }
   ],
   "source": [
    "s = input(\"string \")\n",
    "c=input(\"course \")\n",
    "service=input(\"service \")\n",
    "if s == \"one\":\n",
    "    if c==\"DSA\":\n",
    "        print(\"yes\")\n",
    "    elif c==\"BlockChain\":\n",
    "         print(\"yes1\")\n",
    "    elif c==\"FSDS\":\n",
    "        print(\"yes2\")\n",
    "    else:\n",
    "        print(\"Not\")\n",
    "elif s==\"two\":\n",
    "    if service==\"course\":\n",
    "        print(\"yes3\")\n",
    "    elif service==\"module\":\n",
    "        print(\"yes4\")\n",
    "    elif service==\"doubt\":\n",
    "        print(\"yes5\")\n",
    "    elif service==\"work\":\n",
    "        print(\"yes6\")\n",
    "    else:\n",
    "        print(\"no\")     \n",
    "else:\n",
    "    print(\"NO9\")"
   ]
  },
  {
   "cell_type": "code",
   "execution_count": 36,
   "metadata": {},
   "outputs": [
    {
     "name": "stdout",
     "output_type": "stream",
     "text": [
      "1\n",
      "2\n",
      "3\n",
      "4\n",
      "5\n",
      "6\n",
      "7\n"
     ]
    }
   ],
   "source": [
    "l = [1,2,3,4,5,6,7]\n",
    "for i in l:\n",
    "    print(i)"
   ]
  },
  {
   "cell_type": "code",
   "execution_count": 37,
   "metadata": {},
   "outputs": [
    {
     "name": "stdout",
     "output_type": "stream",
     "text": [
      "n\n",
      "a\n",
      "m\n",
      "r\n",
      "a\n",
      "t\n",
      "a\n"
     ]
    }
   ],
   "source": [
    "for i in \"namrata\":\n",
    "    print(i)"
   ]
  },
  {
   "cell_type": "code",
   "execution_count": 38,
   "metadata": {},
   "outputs": [],
   "source": [
    "t=(1,2,3,4,5,6,6)"
   ]
  },
  {
   "cell_type": "code",
   "execution_count": 39,
   "metadata": {},
   "outputs": [
    {
     "name": "stdout",
     "output_type": "stream",
     "text": [
      "1\n",
      "2\n",
      "3\n",
      "4\n",
      "5\n",
      "6\n",
      "6\n"
     ]
    }
   ],
   "source": [
    "for i in t:\n",
    "    print(i)"
   ]
  },
  {
   "cell_type": "code",
   "execution_count": 40,
   "metadata": {},
   "outputs": [],
   "source": [
    "l=[1,4,5.6,4+7j,\"sudh\"]\n"
   ]
  },
  {
   "cell_type": "code",
   "execution_count": 43,
   "metadata": {},
   "outputs": [
    {
     "name": "stdout",
     "output_type": "stream",
     "text": [
      "<class 'int'> type of 1\n",
      "<class 'int'> type of 4\n",
      "<class 'float'> type of 5.6\n",
      "<class 'complex'> type of (4+7j)\n",
      "<class 'str'> type of sudh\n"
     ]
    }
   ],
   "source": [
    "for i in l:\n",
    "    print(type(i),\"type of\",i)"
   ]
  },
  {
   "cell_type": "code",
   "execution_count": 42,
   "metadata": {},
   "outputs": [
    {
     "data": {
      "text/plain": [
       "list"
      ]
     },
     "execution_count": 42,
     "metadata": {},
     "output_type": "execute_result"
    }
   ],
   "source": [
    "type(l)"
   ]
  },
  {
   "cell_type": "code",
   "execution_count": 45,
   "metadata": {},
   "outputs": [
    {
     "name": "stdout",
     "output_type": "stream",
     "text": [
      "3\n",
      "6\n",
      "7.6\n"
     ]
    }
   ],
   "source": [
    "l=[1,4,5.6]\n",
    "l1=[]\n",
    "for i in l:\n",
    "    print(i+2)\n",
    "    l1.append(i+2)"
   ]
  },
  {
   "cell_type": "code",
   "execution_count": 47,
   "metadata": {},
   "outputs": [
    {
     "data": {
      "text/plain": [
       "[3, 6, 7.6]"
      ]
     },
     "execution_count": 47,
     "metadata": {},
     "output_type": "execute_result"
    }
   ],
   "source": [
    "l1"
   ]
  },
  {
   "cell_type": "code",
   "execution_count": 60,
   "metadata": {},
   "outputs": [],
   "source": [
    "l=[2,45,78,12,\"nam\",6+7j,[56,67,78,5,8+5j,\"kl\"]]"
   ]
  },
  {
   "cell_type": "code",
   "execution_count": 61,
   "metadata": {},
   "outputs": [
    {
     "name": "stdout",
     "output_type": "stream",
     "text": [
      "2\n",
      "45\n",
      "78\n",
      "12\n",
      "56\n",
      "67\n",
      "78\n",
      "5\n"
     ]
    }
   ],
   "source": [
    "for i in l:\n",
    "    if type(i)==int:\n",
    "        print(i)\n",
    "    elif type(i)==list:\n",
    "        for j in i:\n",
    "            if type(j)==int:\n",
    "                print(j)"
   ]
  },
  {
   "cell_type": "code",
   "execution_count": 74,
   "metadata": {},
   "outputs": [
    {
     "name": "stdout",
     "output_type": "stream",
     "text": [
      "index of 2 is 0\n",
      "index of 5 is 1\n",
      "index of 78 is 2\n",
      "index of 12 is 3\n",
      "index of nam is 4\n",
      "index of (6+7j) is 5\n",
      "index of [56, 67, 78, 'dsfdsf'] is 6\n"
     ]
    }
   ],
   "source": [
    "l=[2,5,78,12,\"nam\",6+7j,[56,67,78,\"dsfdsf\"]]\n",
    "for i in l:\n",
    "    print(\"index of\",i,\"is\",l.index(i))\n",
    "for j in l:\n",
    "    if type(j)==str:\n",
    "        for k in j:\n",
    "            if type(k)== chr:\n",
    "                print(k)"
   ]
  },
  {
   "cell_type": "code",
   "execution_count": 82,
   "metadata": {},
   "outputs": [
    {
     "name": "stdout",
     "output_type": "stream",
     "text": [
      "['n', 'a', 'm']\n"
     ]
    }
   ],
   "source": [
    "l=[2,5,78,12,\"nam\",6+7j,[56,67,78,\"dsfdsf\"]]\n",
    "for j in l:\n",
    "    if type(j)==str:\n",
    "        l1=[]\n",
    "        for k in j:\n",
    "            l1.append(k)\n",
    "        print(l1)"
   ]
  },
  {
   "cell_type": "code",
   "execution_count": 84,
   "metadata": {},
   "outputs": [
    {
     "name": "stdout",
     "output_type": "stream",
     "text": [
      "[4, 25, 6084, 144]\n"
     ]
    }
   ],
   "source": [
    "l=[2,5,78,12,\"nam\",6+7j,[56,67,78,\"dsfdsf\"]]\n",
    "l2=[]\n",
    "for j in l:\n",
    "    if type(j)==int:\n",
    "        l2.append(j**2)\n",
    "print(l2)"
   ]
  },
  {
   "cell_type": "code",
   "execution_count": 77,
   "metadata": {},
   "outputs": [
    {
     "name": "stdout",
     "output_type": "stream",
     "text": [
      "index 0 for an element 2\n",
      "index 1 for an element 5\n",
      "index 2 for an element 78\n",
      "index 3 for an element 12\n",
      "index 4 for an element nam\n",
      "index 5 for an element (6+7j)\n",
      "index 6 for an element [56, 67, 78, 'dsfdsf']\n"
     ]
    }
   ],
   "source": [
    "for i in range(len(l)):\n",
    "    print(\"index\",i,\"for an element\",l[i])"
   ]
  },
  {
   "cell_type": "code",
   "execution_count": 78,
   "metadata": {},
   "outputs": [
    {
     "data": {
      "text/plain": [
       "[2, 5, 78, 12, 'nam', (6+7j), [56, 67, 78, 'dsfdsf']]"
      ]
     },
     "execution_count": 78,
     "metadata": {},
     "output_type": "execute_result"
    }
   ],
   "source": [
    "l"
   ]
  },
  {
   "cell_type": "code",
   "execution_count": 80,
   "metadata": {},
   "outputs": [
    {
     "name": "stdout",
     "output_type": "stream",
     "text": [
      "(0, 2)\n",
      "(1, 5)\n",
      "(2, 78)\n",
      "(3, 12)\n",
      "(4, 'nam')\n",
      "(5, (6+7j))\n",
      "(6, [56, 67, 78, 'dsfdsf'])\n"
     ]
    }
   ],
   "source": [
    "for i in enumerate(l):\n",
    "    print(i)"
   ]
  },
  {
   "cell_type": "code",
   "execution_count": null,
   "metadata": {},
   "outputs": [],
   "source": []
  }
 ],
 "metadata": {
  "kernelspec": {
   "display_name": "Python 3",
   "language": "python",
   "name": "python3"
  },
  "language_info": {
   "codemirror_mode": {
    "name": "ipython",
    "version": 3
   },
   "file_extension": ".py",
   "mimetype": "text/x-python",
   "name": "python",
   "nbconvert_exporter": "python",
   "pygments_lexer": "ipython3",
   "version": "3.8.5"
  }
 },
 "nbformat": 4,
 "nbformat_minor": 4
}
